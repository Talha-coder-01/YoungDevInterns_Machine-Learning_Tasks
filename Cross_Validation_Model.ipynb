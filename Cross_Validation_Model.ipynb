{
  "nbformat": 4,
  "nbformat_minor": 0,
  "metadata": {
    "colab": {
      "provenance": [],
      "authorship_tag": "ABX9TyMeCn8NKxzmqTY4jEqNi4bI",
      "include_colab_link": true
    },
    "kernelspec": {
      "name": "python3",
      "display_name": "Python 3"
    },
    "language_info": {
      "name": "python"
    }
  },
  "cells": [
    {
      "cell_type": "markdown",
      "metadata": {
        "id": "view-in-github",
        "colab_type": "text"
      },
      "source": [
        "<a href=\"https://colab.research.google.com/github/Talha-coder-01/YoungDevInterns_Machine-Learning_Tasks/blob/main/Cross_Validation_Model.ipynb\" target=\"_parent\"><img src=\"https://colab.research.google.com/assets/colab-badge.svg\" alt=\"Open In Colab\"/></a>"
      ]
    },
    {
      "cell_type": "code",
      "execution_count": 1,
      "metadata": {
        "id": "JgxNU-AMNCSp"
      },
      "outputs": [],
      "source": [
        "# Import necessary libraries\n",
        "from sklearn.datasets import load_iris\n",
        "from sklearn.tree import DecisionTreeClassifier\n",
        "from sklearn.model_selection import cross_val_score, cross_val_predict\n",
        "from sklearn.metrics import accuracy_score, f1_score\n",
        "from sklearn.model_selection import KFold\n"
      ]
    },
    {
      "cell_type": "code",
      "source": [
        "# Load the Iris dataset\n",
        "iris = load_iris()\n",
        "X, y = iris.data, iris.target"
      ],
      "metadata": {
        "id": "G_B5s68XNDEX"
      },
      "execution_count": 2,
      "outputs": []
    },
    {
      "cell_type": "code",
      "source": [
        "# Initialize the Decision Tree classifier\n",
        "model = DecisionTreeClassifier()"
      ],
      "metadata": {
        "id": "6YTQJQNVNJX1"
      },
      "execution_count": 3,
      "outputs": []
    },
    {
      "cell_type": "code",
      "source": [
        "# Define the k-fold cross-validation with 5 folds\n",
        "kf = KFold(n_splits=5, shuffle=True, random_state=42)"
      ],
      "metadata": {
        "id": "XBA8N7B3NLqt"
      },
      "execution_count": 4,
      "outputs": []
    },
    {
      "cell_type": "code",
      "source": [
        "# Evaluate using cross-validation for accuracy\n",
        "accuracy_scores = cross_val_score(model, X, y, cv=kf, scoring='accuracy')\n",
        "print(\"Accuracy for each fold:\", accuracy_scores)\n",
        "print(\"Mean Accuracy:\", accuracy_scores.mean())"
      ],
      "metadata": {
        "colab": {
          "base_uri": "https://localhost:8080/"
        },
        "id": "4YyEQljrNNrC",
        "outputId": "9b2f8d02-ec6f-42c4-fb70-4f04b603963a"
      },
      "execution_count": 5,
      "outputs": [
        {
          "output_type": "stream",
          "name": "stdout",
          "text": [
            "Accuracy for each fold: [1.         0.96666667 0.93333333 0.93333333 0.93333333]\n",
            "Mean Accuracy: 0.9533333333333335\n"
          ]
        }
      ]
    },
    {
      "cell_type": "code",
      "source": [
        "# Evaluate using cross-validation for F1-score\n",
        "f1_scores = cross_val_score(model, X, y, cv=kf, scoring='f1_macro')\n",
        "print(\"F1-score for each fold:\", f1_scores)\n",
        "print(\"Mean F1-score:\", f1_scores.mean())"
      ],
      "metadata": {
        "colab": {
          "base_uri": "https://localhost:8080/"
        },
        "id": "uhFpv5_TNP36",
        "outputId": "d51dc757-69de-49c5-c91f-3ec8a3bfce70"
      },
      "execution_count": 6,
      "outputs": [
        {
          "output_type": "stream",
          "name": "stdout",
          "text": [
            "F1-score for each fold: [1.         0.95848596 0.92592593 0.93888889 0.94191919]\n",
            "Mean F1-score: 0.9530439930439931\n"
          ]
        }
      ]
    },
    {
      "cell_type": "code",
      "source": [],
      "metadata": {
        "id": "wLaTFCvENRuX"
      },
      "execution_count": null,
      "outputs": []
    }
  ]
}